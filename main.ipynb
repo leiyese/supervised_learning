{
 "cells": [
  {
   "cell_type": "markdown",
   "id": "20d79bb1",
   "metadata": {},
   "source": [
    "# Machine Learning Models for House Price Prediction\n",
    "This notebook implements and compares different machine learning models for predicting house prices using our preprocessed data."
   ]
  },
  {
   "cell_type": "code",
   "execution_count": null,
   "id": "01777a90",
   "metadata": {},
   "outputs": [],
   "source": [
    "# Import required libraries\n",
    "import numpy as np\n",
    "import pandas as pd\n",
    "from sklearn.model_selection import train_test_split, cross_val_score, KFold\n",
    "from sklearn.linear_model import LinearRegression\n",
    "from sklearn.ensemble import RandomForestRegressor\n",
    "from sklearn.metrics import mean_squared_error, r2_score\n",
    "import xgboost as xgb\n",
    "import matplotlib.pyplot as plt\n",
    "import seaborn as sns"
   ]
  },
  {
   "cell_type": "markdown",
   "id": "8a0de241",
   "metadata": {},
   "source": [
    "# Data Splitting and Model Setup\n",
    "Prepare our preprocessed data for modeling by:\n",
    "1. Loading the scaled and encoded data\n",
    "2. Splitting into features (X) and target (y)\n",
    "3. Creating training and validation sets\n",
    "4. Setting up cross-validation"
   ]
  },
  {
   "cell_type": "code",
   "execution_count": null,
   "id": "72823d1e",
   "metadata": {},
   "outputs": [],
   "source": [
    "# Load preprocessed data\n",
    "df_train = pd.read_csv('processed_train.csv')\n",
    "df_test = pd.read_csv('processed_test.csv')\n",
    "\n",
    "# Separate features and target\n",
    "X = df_train.drop(['SalePrice', 'SalePrice_Log'], axis=1)\n",
    "y = df_train['SalePrice_Log']  # Using log-transformed target\n",
    "\n",
    "# Split data\n",
    "X_train, X_val, y_train, y_val = train_test_split(X, y, test_size=0.2, random_state=42)\n",
    "\n",
    "# Setup cross-validation\n",
    "cv = KFold(n_splits=5, shuffle=True, random_state=42)"
   ]
  },
  {
   "cell_type": "markdown",
   "id": "8c9265fd",
   "metadata": {},
   "source": [
    "# Linear Regression Model\n",
    "Implement a basic linear regression model as our baseline:\n",
    "1. Train the model\n",
    "2. Perform cross-validation\n",
    "3. Make predictions\n",
    "4. Calculate RMSE and R² scores"
   ]
  },
  {
   "cell_type": "code",
   "execution_count": null,
   "id": "8be0cd98",
   "metadata": {},
   "outputs": [],
   "source": [
    "# Initialize and train linear regression\n",
    "lr_model = LinearRegression()\n",
    "lr_model.fit(X_train, y_train)\n",
    "\n",
    "# Cross-validation scores\n",
    "lr_cv_scores = cross_val_score(lr_model, X_train, y_train, cv=cv, \n",
    "                             scoring='neg_mean_squared_error')\n",
    "lr_rmse_cv = np.sqrt(-lr_cv_scores.mean())\n",
    "\n",
    "# Predictions and metrics\n",
    "lr_pred = lr_model.predict(X_val)\n",
    "lr_rmse = np.sqrt(mean_squared_error(y_val, lr_pred))\n",
    "lr_r2 = r2_score(y_val, lr_pred)\n",
    "\n",
    "print(f'Linear Regression Results:')\n",
    "print(f'Cross-validation RMSE: {lr_rmse_cv:.4f}')\n",
    "print(f'Validation RMSE: {lr_rmse:.4f}')\n",
    "print(f'Validation R²: {lr_r2:.4f}')"
   ]
  },
  {
   "cell_type": "markdown",
   "id": "26521179",
   "metadata": {},
   "source": [
    "# Random Forest Model\n",
    "Implement a Random Forest regressor with:\n",
    "1. Hyperparameter tuning\n",
    "2. Cross-validation\n",
    "3. Feature importance analysis"
   ]
  },
  {
   "cell_type": "code",
   "execution_count": null,
   "id": "27f25562",
   "metadata": {},
   "outputs": [],
   "source": [
    "# Initialize and train Random Forest\n",
    "rf_model = RandomForestRegressor(n_estimators=100, max_depth=20, \n",
    "                               min_samples_split=5, random_state=42)\n",
    "rf_model.fit(X_train, y_train)\n",
    "\n",
    "# Cross-validation scores\n",
    "rf_cv_scores = cross_val_score(rf_model, X_train, y_train, cv=cv,\n",
    "                             scoring='neg_mean_squared_error')\n",
    "rf_rmse_cv = np.sqrt(-rf_cv_scores.mean())\n",
    "\n",
    "# Predictions and metrics\n",
    "rf_pred = rf_model.predict(X_val)\n",
    "rf_rmse = np.sqrt(mean_squared_error(y_val, rf_pred))\n",
    "rf_r2 = r2_score(y_val, rf_pred)\n",
    "\n",
    "print(f'Random Forest Results:')\n",
    "print(f'Cross-validation RMSE: {rf_rmse_cv:.4f}')\n",
    "print(f'Validation RMSE: {rf_rmse:.4f}')\n",
    "print(f'Validation R²: {rf_r2:.4f}')\n",
    "\n",
    "# Feature importance\n",
    "feature_importance = pd.DataFrame({\n",
    "    'feature': X_train.columns,\n",
    "    'importance': rf_model.feature_importances_\n",
    "}).sort_values('importance', ascending=False)\n",
    "\n",
    "print('\\nTop 10 Most Important Features:')\n",
    "print(feature_importance.head(10))"
   ]
  },
  {
   "cell_type": "markdown",
   "id": "eb8114e7",
   "metadata": {},
   "source": [
    "# XGBoost Model\n",
    "Implement XGBoost regressor with:\n",
    "1. Hyperparameter tuning\n",
    "2. Early stopping\n",
    "3. Learning rate scheduling"
   ]
  },
  {
   "cell_type": "code",
   "execution_count": null,
   "id": "3a4ed89c",
   "metadata": {},
   "outputs": [],
   "source": [
    "# Initialize and train XGBoost\n",
    "xgb_model = xgb.XGBRegressor(\n",
    "    n_estimators=1000,\n",
    "    learning_rate=0.01,\n",
    "    max_depth=5,\n",
    "    min_child_weight=1,\n",
    "    subsample=0.8,\n",
    "    colsample_bytree=0.8,\n",
    "    random_state=42\n",
    ")\n",
    "\n",
    "# Train with early stopping\n",
    "xgb_model.fit(\n",
    "    X_train, y_train,\n",
    "    eval_set=[(X_val, y_val)],\n",
    "    eval_metric='rmse',\n",
    "    early_stopping_rounds=50,\n",
    "    verbose=False\n",
    ")\n",
    "\n",
    "# Predictions and metrics\n",
    "xgb_pred = xgb_model.predict(X_val)\n",
    "xgb_rmse = np.sqrt(mean_squared_error(y_val, xgb_pred))\n",
    "xgb_r2 = r2_score(y_val, xgb_pred)\n",
    "\n",
    "print(f'XGBoost Results:')\n",
    "print(f'Validation RMSE: {xgb_rmse:.4f}')\n",
    "print(f'Validation R²: {xgb_r2:.4f}')"
   ]
  },
  {
   "cell_type": "markdown",
   "id": "d1d9e5e7",
   "metadata": {},
   "source": [
    "# Model Comparison and Evaluation\n",
    "Compare the performance of all models and visualize:\n",
    "1. RMSE and R² scores\n",
    "2. Predictions vs actual values\n",
    "3. Residual analysis"
   ]
  },
  {
   "cell_type": "code",
   "execution_count": null,
   "id": "4802d71d",
   "metadata": {},
   "outputs": [],
   "source": [
    "# Create comparison dataframe\n",
    "model_comparison = pd.DataFrame({\n",
    "    'Model': ['Linear Regression', 'Random Forest', 'XGBoost'],\n",
    "    'RMSE': [lr_rmse, rf_rmse, xgb_rmse],\n",
    "    'R²': [lr_r2, rf_r2, xgb_r2]\n",
    "})\n",
    "\n",
    "print(\"Model Performance Comparison:\")\n",
    "display(model_comparison)\n",
    "\n",
    "# Visualization of predictions vs actual\n",
    "plt.figure(figsize=(15, 5))\n",
    "\n",
    "# Plot predictions vs actual for each model\n",
    "models = {'Linear Regression': lr_pred, \n",
    "          'Random Forest': rf_pred, \n",
    "          'XGBoost': xgb_pred}\n",
    "\n",
    "for i, (name, pred) in enumerate(models.items(), 1):\n",
    "    plt.subplot(1, 3, i)\n",
    "    plt.scatter(y_val, pred, alpha=0.5)\n",
    "    plt.plot([y_val.min(), y_val.max()], [y_val.min(), y_val.max()], 'r--')\n",
    "    plt.xlabel('Actual')\n",
    "    plt.ylabel('Predicted')\n",
    "    plt.title(f'{name}\\nR² = {r2_score(y_val, pred):.4f}')\n",
    "\n",
    "plt.tight_layout()\n",
    "plt.show()"
   ]
  },
  {
   "cell_type": "markdown",
   "id": "262baa27",
   "metadata": {},
   "source": [
    "# Final Prediction Generation\n",
    "Generate predictions on the test set using the best performing model and prepare the submission file."
   ]
  },
  {
   "cell_type": "code",
   "execution_count": null,
   "id": "ea16add8",
   "metadata": {},
   "outputs": [],
   "source": [
    "# Use best model (XGBoost) for final predictions\n",
    "final_predictions = xgb_model.predict(df_test)\n",
    "\n",
    "# Transform predictions back to original scale\n",
    "final_predictions = np.exp(final_predictions) - 1\n",
    "\n",
    "# Create submission dataframe\n",
    "submission = pd.DataFrame({\n",
    "    'Id': df_test.index,\n",
    "    'SalePrice': final_predictions\n",
    "})\n",
    "\n",
    "# Save predictions\n",
    "submission.to_csv('house_price_predictions.csv', index=False)\n",
    "print(\"Predictions saved to 'house_price_predictions.csv'\")"
   ]
  }
 ],
 "metadata": {
  "language_info": {
   "name": "python"
  }
 },
 "nbformat": 4,
 "nbformat_minor": 5
}
